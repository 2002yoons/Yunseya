{
  "nbformat": 4,
  "nbformat_minor": 0,
  "metadata": {
    "colab": {
      "name": "1st assignment.ipynb",
      "private_outputs": true,
      "provenance": [],
      "mount_file_id": "11XUitLv7Qlr9tpOUSS6LQukSZglgcE84",
      "authorship_tag": "ABX9TyMPuLQ/Tlqzfg6OFq8lYWtd",
      "include_colab_link": true
    },
    "kernelspec": {
      "name": "python3",
      "display_name": "Python 3"
    },
    "language_info": {
      "name": "python"
    }
  },
  "cells": [
    {
      "cell_type": "markdown",
      "metadata": {
        "id": "view-in-github",
        "colab_type": "text"
      },
      "source": [
        "<a href=\"https://colab.research.google.com/github/2002yoons/Yunseya/blob/main/1st_assignment.ipynb\" target=\"_parent\"><img src=\"https://colab.research.google.com/assets/colab-badge.svg\" alt=\"Open In Colab\"/></a>"
      ]
    },
    {
      "cell_type": "markdown",
      "metadata": {
        "id": "gqKQBrip8xxS"
      },
      "source": [
        "# 1.Get a dataset\n",
        "\n",
        "\n",
        "1. Get a data set you are interested in from https://www.kaggle.com/\n",
        "2. import pandas as pd (https://pandas.pydata.org/docs/getting_started/intro_tutorials/index.html)\n",
        "3. upload your data file to google drive (google: how to import a data set from google drive?)\n",
        "4. read your data file with 'pd.read_csv'(https://pandas.pydata.org/docs/reference/api/pandas.read_csv.html?highlight=read_csv)\n",
        "\n",
        "* Your data set is gonna be named df. \n"
      ]
    },
    {
      "cell_type": "code",
      "metadata": {
        "id": "_NMQrVAa8tA4"
      },
      "source": [
        "import pandas as pd\n",
        "df = pd.read_csv('')"
      ],
      "execution_count": null,
      "outputs": []
    },
    {
      "cell_type": "markdown",
      "metadata": {
        "id": "ZRButhVm9_Rh"
      },
      "source": [
        "# 2. EDA(https://en.wikipedia.org/wiki/Exploratory_data_analysis)\n",
        "1. What is the data's dimension? keyword: df.shape()\n",
        "2. what name do the columns have? keyword: df.columns()\n",
        "3. Is there any missing value in your data set? keyword: isnull().sum() if you have, replace missing value to zero. keyword: df.dropna()\n",
        "4. pick one numeircal feature (a column with countable numbers)that you like and tell me the mean value. keyword: df.mean()\n",
        "5. visualize the feature with QQ plot, and tell me what it represents.(google QQ plot)\n"
      ]
    },
    {
      "cell_type": "markdown",
      "metadata": {
        "id": "y48ebFcXAtZq"
      },
      "source": [
        "# 3. what you should be able to answer\n",
        "\n",
        "1. What is EDA? why do we do it?\n",
        "2. what library can we use for visualization?\n",
        "3. what is pandas?\n",
        "4. why should we know the dimension of our dataset?\n"
      ]
    },
    {
      "cell_type": "markdown",
      "metadata": {
        "id": "v4rA3KImDbGU"
      },
      "source": [
        ""
      ]
    },
    {
      "cell_type": "markdown",
      "metadata": {
        "id": "_V6sFP-eDb40"
      },
      "source": [
        "# 4. Reference Link\n",
        "\n",
        "1.goals of EDA https://urclass.codestates.com/9040e850-be97-48ab-9c39-51d7443abe85?playlist=576\n",
        "\n",
        "2.EDA explanation https://urclass.codestates.com/cff5db30-e81a-440f-894b-93db67a94157?playlist=576\n",
        "\n",
        "3.how to interpret qqplot?  https://stats.stackexchange.com/questions/101274/how-to-interpret-a-qq-plot\n",
        "\n",
        "4.how to manituplate a data set with pandas? https://youtu.be/vmEHCJofslg"
      ]
    }
  ]
}