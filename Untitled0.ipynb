{
  "nbformat": 4,
  "nbformat_minor": 0,
  "metadata": {
    "colab": {
      "name": "Untitled0.ipynb",
      "provenance": [],
      "authorship_tag": "ABX9TyN2IvOhGD7akPVpIwT+oMni"
    },
    "kernelspec": {
      "name": "python3",
      "display_name": "Python 3"
    },
    "language_info": {
      "name": "python"
    }
  },
  "cells": [
    {
      "cell_type": "code",
      "metadata": {
        "id": "JuLLlzyEnW09"
      },
      "source": [
        "Hello Yunseya. Not Sure If Im Doing This Right"
      ],
      "execution_count": null,
      "outputs": []
    }
  ]
}